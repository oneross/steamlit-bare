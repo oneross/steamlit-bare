{
 "cells": [
  {
   "cell_type": "code",
   "execution_count": 1,
   "metadata": {},
   "outputs": [],
   "source": [
    "import todoist_helper as td"
   ]
  },
  {
   "cell_type": "code",
   "execution_count": 2,
   "metadata": {},
   "outputs": [],
   "source": [
    "tasks = td.get_tasks_df()"
   ]
  },
  {
   "cell_type": "code",
   "execution_count": 13,
   "metadata": {},
   "outputs": [],
   "source": [
    "\n"
   ]
  },
  {
   "cell_type": "code",
   "execution_count": 17,
   "metadata": {},
   "outputs": [],
   "source": [
    "compoundTags = [ t for t in tasks['labels']]\n",
    "tags = list(set([item for sublist in compoundTags for item in sublist]))"
   ]
  },
  {
   "cell_type": "code",
   "execution_count": 18,
   "metadata": {},
   "outputs": [
    {
     "data": {
      "text/plain": [
       "['Steven',\n",
       " 'email',\n",
       " 'phone-calls',\n",
       " 'ios',\n",
       " 'errand',\n",
       " 'computer',\n",
       " 'Rohan',\n",
       " 'Alexa',\n",
       " 'work',\n",
       " 'research',\n",
       " 'focus',\n",
       " 'quick-task',\n",
       " 'Colin',\n",
       " 'chore',\n",
       " 'Christie']"
      ]
     },
     "execution_count": 18,
     "metadata": {},
     "output_type": "execute_result"
    }
   ],
   "source": [
    "tags"
   ]
  },
  {
   "cell_type": "code",
   "execution_count": null,
   "metadata": {},
   "outputs": [],
   "source": []
  }
 ],
 "metadata": {
  "kernelspec": {
   "display_name": "steamlit-bare",
   "language": "python",
   "name": "python3"
  },
  "language_info": {
   "codemirror_mode": {
    "name": "ipython",
    "version": 3
   },
   "file_extension": ".py",
   "mimetype": "text/x-python",
   "name": "python",
   "nbconvert_exporter": "python",
   "pygments_lexer": "ipython3",
   "version": "3.10.8"
  },
  "orig_nbformat": 4,
  "vscode": {
   "interpreter": {
    "hash": "8a116c24c121e2e3838d14bf0b240a9aeb87ab94ccb874e74329eceaee19fcd4"
   }
  }
 },
 "nbformat": 4,
 "nbformat_minor": 2
}
