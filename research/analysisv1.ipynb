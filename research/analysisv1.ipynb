{
 "cells": [
  {
   "cell_type": "code",
   "execution_count": 5,
   "metadata": {},
   "outputs": [],
   "source": [
    "import todoist_helper as td\n",
    "\n",
    "tasks = td.get_tasks_df()"
   ]
  },
  {
   "cell_type": "code",
   "execution_count": 7,
   "metadata": {},
   "outputs": [
    {
     "data": {
      "text/plain": [
       "174"
      ]
     },
     "execution_count": 7,
     "metadata": {},
     "output_type": "execute_result"
    }
   ],
   "source": [
    "len(tasks)\n"
   ]
  },
  {
   "cell_type": "code",
   "execution_count": 20,
   "metadata": {},
   "outputs": [
    {
     "data": {
      "text/plain": [
       "144"
      ]
     },
     "execution_count": 20,
     "metadata": {},
     "output_type": "execute_result"
    }
   ],
   "source": [
    "len(tasks[tasks['priority'] == 1])"
   ]
  },
  {
   "cell_type": "code",
   "execution_count": 21,
   "metadata": {},
   "outputs": [],
   "source": [
    "def reverse_priority(x):\n",
    "    if x == 1:\n",
    "        result = 4\n",
    "    elif x == 2:\n",
    "        result = 3\n",
    "    elif x == 3:\n",
    "        result = 2\n",
    "    elif x == 4:\n",
    "        result = 1\n",
    "    else:\n",
    "        pass\n"
   ]
  },
  {
   "cell_type": "code",
   "execution_count": 27,
   "metadata": {},
   "outputs": [
    {
     "data": {
      "text/plain": [
       "pandas.core.series.Series"
      ]
     },
     "execution_count": 27,
     "metadata": {},
     "output_type": "execute_result"
    }
   ],
   "source": [
    "# df['priority'] = reverse_priority(df['priority'])\n"
   ]
  },
  {
   "cell_type": "code",
   "execution_count": 4,
   "metadata": {},
   "outputs": [],
   "source": [
    "base = alt.Chart(tasks).transform_aggregate(\n",
    "    \n",
    ")"
   ]
  },
  {
   "cell_type": "code",
   "execution_count": 21,
   "metadata": {},
   "outputs": [
    {
     "name": "stderr",
     "output_type": "stream",
     "text": [
      "/var/folders/ls/b0dbh2qj0w7f777j4jy4c6tw0000gn/T/ipykernel_44604/800699935.py:4: SettingWithCopyWarning: \n",
      "A value is trying to be set on a copy of a slice from a DataFrame.\n",
      "Try using .loc[row_indexer,col_indexer] = value instead\n",
      "\n",
      "See the caveats in the documentation: https://pandas.pydata.org/pandas-docs/stable/user_guide/indexing.html#returning-a-view-versus-a-copy\n",
      "  skinny['priority'] = skinny['priority'].astype(str)\n"
     ]
    }
   ],
   "source": [
    "import altair as alt\n",
    "\n",
    "skinny = tasks[['priority','due_date']]\n",
    "skinny['priority'] = skinny['priority'].astype(str)\n",
    "skinny2 = skinny.query('due_date == due_date')\n",
    "\n",
    "base = alt.Chart(skinny2).transform_aggregate(\n",
    "    num_tasks='count()',\n",
    "    groupby=['priority','due_date']\n",
    ").encode(\n",
    "    alt.X('due_date', scale=alt.Scale(paddingInner=0)),\n",
    "    alt.Y('priority', scale=alt.Scale(paddingInner=0)),\n",
    ")\n",
    "\n",
    "heatmap = base.mark_rect().encode(\n",
    "    color=alt.Color('num_tasks:Q',\n",
    "        scale=alt.Scale(scheme='viridis'),\n",
    "        legend=alt.Legend(direction='horizontal')\n",
    "    )\n",
    ")\n",
    "\n",
    "text = base.mark_text(baseline='middle').encode(\n",
    "    text='num_tasks:Q',\n",
    "    color=alt.condition(\n",
    "        alt.datum.num_tasks > 4,\n",
    "        alt.value('black'),\n",
    "        alt.value('white')\n",
    "    )\n",
    ")"
   ]
  },
  {
   "cell_type": "code",
   "execution_count": 22,
   "metadata": {},
   "outputs": [
    {
     "name": "stderr",
     "output_type": "stream",
     "text": [
      "/Users/ross/opt/miniconda3/envs/steamlit-bare/lib/python3.10/site-packages/altair/utils/core.py:283: FutureWarning: iteritems is deprecated and will be removed in a future version. Use .items instead.\n",
      "  for col_name, dtype in df.dtypes.iteritems():\n"
     ]
    },
    {
     "data": {
      "text/html": [
       "\n",
       "<div id=\"altair-viz-0af0514d15ba4ff6a53d41a64b8ecf2b\"></div>\n",
       "<script type=\"text/javascript\">\n",
       "  (function(spec, embedOpt){\n",
       "    let outputDiv = document.currentScript.previousElementSibling;\n",
       "    if (outputDiv.id !== \"altair-viz-0af0514d15ba4ff6a53d41a64b8ecf2b\") {\n",
       "      outputDiv = document.getElementById(\"altair-viz-0af0514d15ba4ff6a53d41a64b8ecf2b\");\n",
       "    }\n",
       "    const paths = {\n",
       "      \"vega\": \"https://cdn.jsdelivr.net/npm//vega@5?noext\",\n",
       "      \"vega-lib\": \"https://cdn.jsdelivr.net/npm//vega-lib?noext\",\n",
       "      \"vega-lite\": \"https://cdn.jsdelivr.net/npm//vega-lite@4.8.1?noext\",\n",
       "      \"vega-embed\": \"https://cdn.jsdelivr.net/npm//vega-embed@6?noext\",\n",
       "    };\n",
       "\n",
       "    function loadScript(lib) {\n",
       "      return new Promise(function(resolve, reject) {\n",
       "        var s = document.createElement('script');\n",
       "        s.src = paths[lib];\n",
       "        s.async = true;\n",
       "        s.onload = () => resolve(paths[lib]);\n",
       "        s.onerror = () => reject(`Error loading script: ${paths[lib]}`);\n",
       "        document.getElementsByTagName(\"head\")[0].appendChild(s);\n",
       "      });\n",
       "    }\n",
       "\n",
       "    function showError(err) {\n",
       "      outputDiv.innerHTML = `<div class=\"error\" style=\"color:red;\">${err}</div>`;\n",
       "      throw err;\n",
       "    }\n",
       "\n",
       "    function displayChart(vegaEmbed) {\n",
       "      vegaEmbed(outputDiv, spec, embedOpt)\n",
       "        .catch(err => showError(`Javascript Error: ${err.message}<br>This usually means there's a typo in your chart specification. See the javascript console for the full traceback.`));\n",
       "    }\n",
       "\n",
       "    if(typeof define === \"function\" && define.amd) {\n",
       "      requirejs.config({paths});\n",
       "      require([\"vega-embed\"], displayChart, err => showError(`Error loading script: ${err.message}`));\n",
       "    } else if (typeof vegaEmbed === \"function\") {\n",
       "      displayChart(vegaEmbed);\n",
       "    } else {\n",
       "      loadScript(\"vega\")\n",
       "        .then(() => loadScript(\"vega-lite\"))\n",
       "        .then(() => loadScript(\"vega-embed\"))\n",
       "        .catch(showError)\n",
       "        .then(() => displayChart(vegaEmbed));\n",
       "    }\n",
       "  })({\"config\": {\"view\": {\"continuousWidth\": 400, \"continuousHeight\": 300}}, \"layer\": [{\"mark\": \"rect\", \"encoding\": {\"color\": {\"type\": \"quantitative\", \"field\": \"num_tasks\", \"legend\": {\"direction\": \"horizontal\"}, \"scale\": {\"scheme\": \"viridis\"}}, \"x\": {\"type\": \"nominal\", \"field\": \"due_date\", \"scale\": {\"paddingInner\": 0}}, \"y\": {\"type\": \"nominal\", \"field\": \"priority\", \"scale\": {\"paddingInner\": 0}}}, \"transform\": [{\"aggregate\": [{\"op\": \"count\", \"as\": \"num_tasks\"}], \"groupby\": [\"priority\", \"due_date\"]}]}, {\"mark\": {\"type\": \"text\", \"baseline\": \"middle\"}, \"encoding\": {\"color\": {\"condition\": {\"value\": \"black\", \"test\": \"(datum.num_tasks > 4)\"}, \"value\": \"white\"}, \"text\": {\"type\": \"quantitative\", \"field\": \"num_tasks\"}, \"x\": {\"type\": \"nominal\", \"field\": \"due_date\", \"scale\": {\"paddingInner\": 0}}, \"y\": {\"type\": \"nominal\", \"field\": \"priority\", \"scale\": {\"paddingInner\": 0}}}, \"transform\": [{\"aggregate\": [{\"op\": \"count\", \"as\": \"num_tasks\"}], \"groupby\": [\"priority\", \"due_date\"]}]}], \"data\": {\"name\": \"data-6c114d32c053ead0f8686a748795974a\"}, \"$schema\": \"https://vega.github.io/schema/vega-lite/v4.8.1.json\", \"datasets\": {\"data-6c114d32c053ead0f8686a748795974a\": [{\"priority\": \"1\", \"due_date\": \"2022-12-21\"}, {\"priority\": \"1\", \"due_date\": \"2022-12-21\"}, {\"priority\": \"1\", \"due_date\": \"2022-12-21\"}, {\"priority\": \"1\", \"due_date\": \"2022-12-23\"}, {\"priority\": \"1\", \"due_date\": \"2022-12-24\"}, {\"priority\": \"1\", \"due_date\": \"2025-08-01\"}, {\"priority\": \"1\", \"due_date\": \"2023-09-15\"}, {\"priority\": \"1\", \"due_date\": \"2022-12-24\"}, {\"priority\": \"1\", \"due_date\": \"2022-12-21\"}, {\"priority\": \"2\", \"due_date\": \"2022-12-18\"}, {\"priority\": \"3\", \"due_date\": \"2022-12-24\"}, {\"priority\": \"1\", \"due_date\": \"2023-09-11\"}, {\"priority\": \"2\", \"due_date\": \"2022-12-19\"}, {\"priority\": \"3\", \"due_date\": \"2022-12-19\"}, {\"priority\": \"2\", \"due_date\": \"2023-01-15\"}, {\"priority\": \"2\", \"due_date\": \"2023-01-09\"}, {\"priority\": \"3\", \"due_date\": \"2022-12-21\"}, {\"priority\": \"2\", \"due_date\": \"2022-12-21\"}, {\"priority\": \"2\", \"due_date\": \"2022-12-22\"}, {\"priority\": \"2\", \"due_date\": \"2022-12-19\"}, {\"priority\": \"1\", \"due_date\": \"2022-12-22\"}, {\"priority\": \"1\", \"due_date\": \"2022-12-19\"}, {\"priority\": \"1\", \"due_date\": \"2023-02-24\"}, {\"priority\": \"1\", \"due_date\": \"2022-12-24\"}, {\"priority\": \"2\", \"due_date\": \"2022-12-19\"}, {\"priority\": \"3\", \"due_date\": \"2022-12-24\"}, {\"priority\": \"1\", \"due_date\": \"2023-01-01\"}, {\"priority\": \"1\", \"due_date\": \"2022-12-23\"}, {\"priority\": \"1\", \"due_date\": \"2022-12-25\"}, {\"priority\": \"1\", \"due_date\": \"2022-12-20\"}, {\"priority\": \"2\", \"due_date\": \"2022-12-21\"}, {\"priority\": \"3\", \"due_date\": \"2022-12-19\"}, {\"priority\": \"1\", \"due_date\": \"2022-12-20\"}, {\"priority\": \"1\", \"due_date\": \"2022-12-21\"}, {\"priority\": \"1\", \"due_date\": \"2022-12-18\"}, {\"priority\": \"4\", \"due_date\": \"2022-12-19\"}, {\"priority\": \"1\", \"due_date\": \"2022-12-19\"}, {\"priority\": \"2\", \"due_date\": \"2022-12-18\"}, {\"priority\": \"2\", \"due_date\": \"2022-12-19\"}, {\"priority\": \"3\", \"due_date\": \"2022-12-19\"}, {\"priority\": \"3\", \"due_date\": \"2022-12-19\"}, {\"priority\": \"2\", \"due_date\": \"2022-12-19\"}, {\"priority\": \"2\", \"due_date\": \"2022-12-20\"}, {\"priority\": \"4\", \"due_date\": \"2022-12-20\"}, {\"priority\": \"4\", \"due_date\": \"2022-12-19\"}, {\"priority\": \"3\", \"due_date\": \"2022-12-19\"}, {\"priority\": \"1\", \"due_date\": \"2022-12-24\"}, {\"priority\": \"1\", \"due_date\": \"2022-12-24\"}, {\"priority\": \"4\", \"due_date\": \"2022-12-18\"}, {\"priority\": \"4\", \"due_date\": \"2022-12-19\"}, {\"priority\": \"1\", \"due_date\": \"2022-12-18\"}, {\"priority\": \"4\", \"due_date\": \"2022-12-18\"}, {\"priority\": \"1\", \"due_date\": \"2023-01-11\"}]}}, {\"mode\": \"vega-lite\"});\n",
       "</script>"
      ],
      "text/plain": [
       "alt.LayerChart(...)"
      ]
     },
     "execution_count": 22,
     "metadata": {},
     "output_type": "execute_result"
    }
   ],
   "source": [
    "heatmap + text"
   ]
  },
  {
   "cell_type": "code",
   "execution_count": null,
   "metadata": {},
   "outputs": [],
   "source": []
  }
 ],
 "metadata": {
  "kernelspec": {
   "display_name": "steamlit-bare",
   "language": "python",
   "name": "python3"
  },
  "language_info": {
   "codemirror_mode": {
    "name": "ipython",
    "version": 3
   },
   "file_extension": ".py",
   "mimetype": "text/x-python",
   "name": "python",
   "nbconvert_exporter": "python",
   "pygments_lexer": "ipython3",
   "version": "3.10.8"
  },
  "orig_nbformat": 4,
  "vscode": {
   "interpreter": {
    "hash": "8a116c24c121e2e3838d14bf0b240a9aeb87ab94ccb874e74329eceaee19fcd4"
   }
  }
 },
 "nbformat": 4,
 "nbformat_minor": 2
}
