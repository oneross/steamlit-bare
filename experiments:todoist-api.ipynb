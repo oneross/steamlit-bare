{
 "cells": [
  {
   "cell_type": "code",
   "execution_count": 1,
   "metadata": {},
   "outputs": [],
   "source": [
    "import os\n",
    "TODOIST_API_TOKEN = '3d9b1ee0d8f344734b1c0de3c6c1443326f209df'"
   ]
  },
  {
   "cell_type": "code",
   "execution_count": 2,
   "metadata": {},
   "outputs": [],
   "source": [
    "from todoist_api_python.api_async import TodoistAPIAsync\n",
    "from todoist_api_python.api import TodoistAPI\n",
    "\n",
    "# from beautiful_date import *\n",
    "from datetime import datetime\n",
    "from dateutil import relativedelta as durd\n",
    "\n",
    "import pandas as pd"
   ]
  },
  {
   "cell_type": "code",
   "execution_count": 3,
   "metadata": {},
   "outputs": [],
   "source": [
    "def get_display_hierarchy(task):\n",
    "    if hasattr(task, 'Section'):\n",
    "        section_appendix = '/' + task.Section.name\n",
    "    else:\n",
    "        section_appendix = ''\n",
    "    result = task.Project.name + section_appendix + ': '\n",
    "    return result\n",
    "\n",
    "def get_project_by_id(project_id, projects):\n",
    "    result = [p for p in projects if p.id == project_id][0]\n",
    "    return result\n",
    "\n",
    "def get_section_by_id(section_id, sections):\n",
    "    result = [s for s in sections if s.id == section_id][0]\n",
    "    return result"
   ]
  },
  {
   "cell_type": "code",
   "execution_count": 4,
   "metadata": {},
   "outputs": [],
   "source": [
    "def get_tasks_sync(filterString):\n",
    "    api = TodoistAPI(TODOIST_API_TOKEN)\n",
    "    try:\n",
    "        projects = api.get_projects()\n",
    "        sections = api.get_sections()\n",
    "        if filter:\n",
    "            tasks = api.get_tasks(filter=filterString)\n",
    "        else:\n",
    "            tasks = api.get_tasks()\n",
    "        \n",
    "        for task in tasks:\n",
    "            task.Project = get_project_by_id(task.project_id, projects)\n",
    "            if task.section_id:\n",
    "                task.Section = get_section_by_id(task.section_id, sections)\n",
    "            task.display_hierarchy = get_display_hierarchy(task)\n",
    "        return(tasks)\n",
    "    except Exception as error:\n",
    "        print(error)"
   ]
  },
  {
   "cell_type": "code",
   "execution_count": 5,
   "metadata": {},
   "outputs": [],
   "source": [
    "class DotDict(dict):\n",
    "    __getattr__ = dict.__getitem__\n",
    "    __setattr__ = dict.__setitem__\n",
    "    __delattr__ = dict.__delitem__\n"
   ]
  },
  {
   "cell_type": "code",
   "execution_count": 19,
   "metadata": {},
   "outputs": [],
   "source": [
    "\n",
    "dFilters = {\n",
    "    'mit':  '(2 days & p1) | (today & p2) | (7 days & @deadline)',\n",
    "    'tod':  'today | overdue',\n",
    "    'tom':  'tomorrow',\n",
    "    'work': '(no due date & @work & !p4) | (2 days & @work) | (no due date & ##Work & !p4) | (2 days & ##Work) | (7 days & @work & @deadline) | (7 days & ##Work & @deadline)'\n",
    "}\n",
    "filter = DotDict(dFilters)\n",
    "\n",
    "\n",
    "tasks = get_tasks_sync(filter.mit)"
   ]
  },
  {
   "cell_type": "code",
   "execution_count": 20,
   "metadata": {},
   "outputs": [
    {
     "data": {
      "text/plain": [
       "[Task(assignee_id=None, assigner_id=None, comment_count=0, is_completed=False, content='MBR Dashboard F R I D E C 23 Plan', created_at='2022-12-22T13:11:29.167323Z', creator_id='120188', description='', due=Due(date='2022-12-30', is_recurring=False, string='Dec 30', datetime=None, timezone=None), id='6458947331', labels=['work'], order=4, parent_id=None, priority=4, project_id='2304203592', section_id=None, url='https://todoist.com/showTask?id=6458947331', sync_id=None),\n",
       " Task(assignee_id=None, assigner_id=None, comment_count=0, is_completed=False, content='Clean out pantry to make room plumbers', created_at='2022-12-23T13:39:44.487583Z', creator_id='120188', description='', due=Due(date='2022-12-30', is_recurring=False, string='Dec 30', datetime=None, timezone=None), id='6461783088', labels=[], order=39, parent_id=None, priority=4, project_id='2240547795', section_id='30783535', url='https://todoist.com/showTask?id=6461783088', sync_id=None)]"
      ]
     },
     "execution_count": 20,
     "metadata": {},
     "output_type": "execute_result"
    }
   ],
   "source": [
    "tasks"
   ]
  },
  {
   "cell_type": "code",
   "execution_count": 71,
   "metadata": {},
   "outputs": [
    {
     "data": {
      "text/plain": [
       "'2022-12-30'"
      ]
     },
     "execution_count": 71,
     "metadata": {},
     "output_type": "execute_result"
    }
   ],
   "source": [
    "tasks[0].due.date"
   ]
  },
  {
   "cell_type": "code",
   "execution_count": 72,
   "metadata": {},
   "outputs": [
    {
     "data": {
      "text/plain": [
       "'📊 MBR Dashboards - Jan 1 2023: '"
      ]
     },
     "execution_count": 72,
     "metadata": {},
     "output_type": "execute_result"
    }
   ],
   "source": [
    "tasks[0].display_hierarchy "
   ]
  },
  {
   "cell_type": "code",
   "execution_count": 73,
   "metadata": {},
   "outputs": [
    {
     "data": {
      "text/plain": [
       "'📊 MBR Dashboards - Jan 1 2023: MBR Dashboard F R I D E C 23 Plan'"
      ]
     },
     "execution_count": 73,
     "metadata": {},
     "output_type": "execute_result"
    }
   ],
   "source": [
    "def getTaskDisplay(t):\n",
    "    result = t.display_hierarchy + t.content\n",
    "    return result\n",
    "\n",
    "getTaskDisplay(tasks[0])"
   ]
  },
  {
   "cell_type": "code",
   "execution_count": 74,
   "metadata": {},
   "outputs": [
    {
     "data": {
      "text/plain": [
       "5"
      ]
     },
     "execution_count": 74,
     "metadata": {},
     "output_type": "execute_result"
    }
   ],
   "source": [
    "len(tasks)"
   ]
  },
  {
   "cell_type": "code",
   "execution_count": 75,
   "metadata": {},
   "outputs": [],
   "source": [
    "focus = tasks.sort(key = lambda t: (t.priority, t.order, (t.due is None, t.due)), reverse= True)"
   ]
  },
  {
   "cell_type": "code",
   "execution_count": 76,
   "metadata": {},
   "outputs": [
    {
     "ename": "TypeError",
     "evalue": "'NoneType' object is not iterable",
     "output_type": "error",
     "traceback": [
      "\u001b[0;31m---------------------------------------------------------------------------\u001b[0m",
      "\u001b[0;31mTypeError\u001b[0m                                 Traceback (most recent call last)",
      "Cell \u001b[0;32mIn[76], line 1\u001b[0m\n\u001b[0;32m----> 1\u001b[0m \u001b[39mfor\u001b[39;00m t \u001b[39min\u001b[39;00m focus:\n\u001b[1;32m      2\u001b[0m     \u001b[39mprint\u001b[39m(t\u001b[39m.\u001b[39mcontent)\n",
      "\u001b[0;31mTypeError\u001b[0m: 'NoneType' object is not iterable"
     ]
    }
   ],
   "source": [
    "for t in focus:\n",
    "    print(t.content)"
   ]
  },
  {
   "cell_type": "code",
   "execution_count": 15,
   "metadata": {},
   "outputs": [],
   "source": [
    "def get_sorted_top_x(list, x):\n",
    "    sorted_list = sorted(list, key = lambda t: (t.priority, t.order, (t.due is None, t.due)), reverse= True)\n",
    "    results = sorted_list[:3]\n",
    "    return results"
   ]
  },
  {
   "cell_type": "code",
   "execution_count": 16,
   "metadata": {},
   "outputs": [],
   "source": [
    "j = get_sorted_top_x(tasks, 3)"
   ]
  },
  {
   "cell_type": "code",
   "execution_count": 18,
   "metadata": {},
   "outputs": [
    {
     "data": {
      "text/plain": [
       "3"
      ]
     },
     "execution_count": 18,
     "metadata": {},
     "output_type": "execute_result"
    }
   ],
   "source": [
    "len(j)"
   ]
  },
  {
   "cell_type": "code",
   "execution_count": 11,
   "metadata": {},
   "outputs": [
    {
     "data": {
      "text/plain": [
       "[Task(assignee_id=None, assigner_id=None, comment_count=0, is_completed=False, content='MBR Dashboard F R I D E C 23 Plan', created_at='2022-12-22T13:11:29.167323Z', creator_id='120188', description='', due=Due(date='2022-12-30', is_recurring=False, string='Dec 30', datetime=None, timezone=None), id='6458947331', labels=['work'], order=4, parent_id=None, priority=4, project_id='2304203592', section_id=None, url='https://todoist.com/showTask?id=6458947331', sync_id=None),\n",
       " Task(assignee_id=None, assigner_id=None, comment_count=0, is_completed=False, content='**Eligibility** - Chat with your manager and determine eligibility.', created_at='2022-12-23T18:16:23.187416Z', creator_id='120188', description='', due=None, id='6462381130', labels=['Steven', 'meetings', 'work'], order=1, parent_id='6462380929', priority=3, project_id='2289547746', section_id='108835020', url='https://todoist.com/showTask?id=6462381130', sync_id=None),\n",
       " Task(assignee_id=None, assigner_id=None, comment_count=1, is_completed=False, content='Get external link & Forward remote friendly data CE role to Matt Vaughan', created_at='2022-12-07T17:59:56.711338Z', creator_id='120188', description='', due=None, id='6418174825', labels=['work'], order=-1, parent_id=None, priority=3, project_id='2303636739', section_id='108764786', url='https://todoist.com/showTask?id=6418174825', sync_id=None),\n",
       " Task(assignee_id=None, assigner_id=None, comment_count=0, is_completed=False, content='Review tax optimization information', created_at='2022-10-20T15:21:32.915955Z', creator_id='120188', description='https://mail.google.com/mail/u/0/?ui=2&view=btop&ver=tczbrkxc2ywa&search=inbox&th=%23thread-f:1747038008166052018&cvid=2\\n\\nFinancial Health Coaching Page: https://support.google.com/mygoogle/answer/7031878\\n\\nAfter tax roth video: http://l.evivebenefits.com/rts/go2.aspx?h=12538&tp=i-1NGB-IT-lH-2MKK-1n-hDb-1c-2MFm-l87jQflygs-1fcLKG\\n\\n401k Milestone 2 video: https://drive.google.com/file/d/1lZBZiyrshSBwF7R2xp3423-TUiSStGYC/view\\n\\nAftertax Page: https://support.google.com/mygoogle/topic/7009832?hl=en&ref_topic=6205846', due=None, id='6279463186', labels=['work'], order=1, parent_id=None, priority=2, project_id='2267319474', section_id=None, url='https://todoist.com/showTask?id=6279463186', sync_id=None),\n",
       " Task(assignee_id=None, assigner_id=None, comment_count=0, is_completed=False, content='Research ProdOps ladder', created_at='2022-12-14T13:35:22.852859Z', creator_id='120188', description='', due=None, id='6436981275', labels=['work'], order=1, parent_id=None, priority=2, project_id='2304203616', section_id='109840642', url='https://todoist.com/showTask?id=6436981275', sync_id=None)]"
      ]
     },
     "execution_count": 11,
     "metadata": {},
     "output_type": "execute_result"
    }
   ],
   "source": [
    "tasks"
   ]
  },
  {
   "cell_type": "code",
   "execution_count": null,
   "metadata": {},
   "outputs": [],
   "source": []
  }
 ],
 "metadata": {
  "kernelspec": {
   "display_name": "steamlit-bare",
   "language": "python",
   "name": "python3"
  },
  "language_info": {
   "codemirror_mode": {
    "name": "ipython",
    "version": 3
   },
   "file_extension": ".py",
   "mimetype": "text/x-python",
   "name": "python",
   "nbconvert_exporter": "python",
   "pygments_lexer": "ipython3",
   "version": "3.10.8"
  },
  "orig_nbformat": 4,
  "vscode": {
   "interpreter": {
    "hash": "8a116c24c121e2e3838d14bf0b240a9aeb87ab94ccb874e74329eceaee19fcd4"
   }
  }
 },
 "nbformat": 4,
 "nbformat_minor": 2
}
