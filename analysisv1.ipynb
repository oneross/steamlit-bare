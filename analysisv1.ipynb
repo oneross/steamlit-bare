{
 "cells": [
  {
   "cell_type": "code",
   "execution_count": 1,
   "metadata": {},
   "outputs": [
    {
     "name": "stdout",
     "output_type": "stream",
     "text": [
      "    assignee_id assigner_id  comment_count  is_completed  \\\n",
      "0          None        None              0         False   \n",
      "1          None        None              0         False   \n",
      "2          None        None              0         False   \n",
      "3          None        None              1         False   \n",
      "4          None        None              0         False   \n",
      "..          ...         ...            ...           ...   \n",
      "171        None        None              0         False   \n",
      "172        None        None              0         False   \n",
      "173        None        None              0         False   \n",
      "174        None        None              0         False   \n",
      "175        None        None              0         False   \n",
      "\n",
      "                                               content  \\\n",
      "0        Rollover Capital One 401k (after loan repaid)   \n",
      "1    Add current phone to Merrill (BOA) contact Inf...   \n",
      "2    Start Tax Docs - collect papers from office, m...   \n",
      "3    Check vanguard statement, import to Taxes fold...   \n",
      "4    8489.05 Walden + 2832.83 Other, 9701.94 remaining   \n",
      "..                                                 ...   \n",
      "171                                    Plotly examples   \n",
      "172                                    altair examples   \n",
      "173  Cancel midjourney (and lock virtual card) if n...   \n",
      "174                              pick todolist manager   \n",
      "175              Project: v0.1 of perfect vscode setup   \n",
      "\n",
      "                      created_at creator_id  \\\n",
      "0    2020-07-29T00:43:16.169107Z     120188   \n",
      "1    2020-08-06T04:02:53.399077Z     120188   \n",
      "2    2022-02-26T14:42:13.490526Z     120188   \n",
      "3    2022-04-20T01:15:34.887154Z     120188   \n",
      "4    2022-06-26T13:04:47.020689Z     120188   \n",
      "..                           ...        ...   \n",
      "171  2022-12-18T03:04:23.256276Z     120188   \n",
      "172  2022-12-18T03:04:33.771319Z     120188   \n",
      "173  2022-12-18T03:13:57.848053Z     120188   \n",
      "174  2022-12-18T22:21:26.218416Z     120188   \n",
      "175  2022-12-19T00:08:05.775322Z     120188   \n",
      "\n",
      "                                           description          id  \\\n",
      "0                                                       4066911433   \n",
      "1                                                       4084485127   \n",
      "2                                                       5631068645   \n",
      "3                                                       5778413819   \n",
      "4    4878.57 Original\\n-1000 \"last Sunday\" --> 3878...  5958615626   \n",
      "..                                                 ...         ...   \n",
      "171                                                     6446289474   \n",
      "172                                                     6446289638   \n",
      "173                                                     6446296326   \n",
      "174  taskpaper handling\\n\\nroam style outline handl...  6447972816   \n",
      "175                               Timebox to Christmas  6448129565   \n",
      "\n",
      "                     labels  ...    project_name project_order  \\\n",
      "0         [computer, focus]  ...           Areas             7   \n",
      "1    [computer, quick-task]  ...           Areas             7   \n",
      "2                        []  ...  💲⚖️ 2020 Taxes             4   \n",
      "3                        []  ...  💲⚖️ 2020 Taxes             4   \n",
      "4                        []  ...           Areas             7   \n",
      "..                      ...  ...             ...           ...   \n",
      "171              [research]  ...    🧠 NeuroPsych             1   \n",
      "172              [research]  ...    🧠 NeuroPsych             1   \n",
      "173                      []  ...        Ticklers             2   \n",
      "174                      []  ...    🧠 NeuroPsych             1   \n",
      "175                      []  ...    🧠 NeuroPsych             1   \n",
      "\n",
      "     project_parent_id                                    project_url  \\\n",
      "0                 None  https://todoist.com/showProject?id=2240547795   \n",
      "1                 None  https://todoist.com/showProject?id=2240547795   \n",
      "2                 None  https://todoist.com/showProject?id=2267319474   \n",
      "3                 None  https://todoist.com/showProject?id=2267319474   \n",
      "4                 None  https://todoist.com/showProject?id=2240547795   \n",
      "..                 ...                                            ...   \n",
      "171               None  https://todoist.com/showProject?id=2289547746   \n",
      "172               None  https://todoist.com/showProject?id=2289547746   \n",
      "173         2240548015  https://todoist.com/showProject?id=2240547710   \n",
      "174               None  https://todoist.com/showProject?id=2289547746   \n",
      "175               None  https://todoist.com/showProject?id=2289547746   \n",
      "\n",
      "    project_view_style section_id                        section_name  \\\n",
      "0                 list   30783675                      Legal_Finances   \n",
      "1                 list   30783675                      Legal_Finances   \n",
      "2                 list  109727664                         Preparation   \n",
      "3                 list  109727664                         Preparation   \n",
      "4                 list   30783675                      Legal_Finances   \n",
      "..                 ...        ...                                 ...   \n",
      "171               list  108835066                       Mini Projects   \n",
      "172               list  108835066                       Mini Projects   \n",
      "173               list   30784904  Subscriptions, Cancellations, etc.   \n",
      "174               list  108835066                       Mini Projects   \n",
      "175               list  108835066                       Mini Projects   \n",
      "\n",
      "    section_order  section_project_id due  \n",
      "0             1.0          2240547795 NaN  \n",
      "1             1.0          2240547795 NaN  \n",
      "2             1.0          2267319474 NaN  \n",
      "3             1.0          2267319474 NaN  \n",
      "4             1.0          2240547795 NaN  \n",
      "..            ...                 ...  ..  \n",
      "171           3.0          2289547746 NaN  \n",
      "172           3.0          2289547746 NaN  \n",
      "173           1.0          2240547710 NaN  \n",
      "174           3.0          2289547746 NaN  \n",
      "175           3.0          2289547746 NaN  \n",
      "\n",
      "[176 rows x 44 columns]\n"
     ]
    }
   ],
   "source": [
    "import todoist_helper as td\n",
    "\n",
    "tasks = td.get_tasks_df()"
   ]
  },
  {
   "cell_type": "code",
   "execution_count": 4,
   "metadata": {},
   "outputs": [],
   "source": [
    "base = alt.Chart(tasks).transform_aggregate(\n",
    "    \n",
    ")"
   ]
  },
  {
   "cell_type": "code",
   "execution_count": 21,
   "metadata": {},
   "outputs": [
    {
     "name": "stderr",
     "output_type": "stream",
     "text": [
      "/var/folders/ls/b0dbh2qj0w7f777j4jy4c6tw0000gn/T/ipykernel_44604/800699935.py:4: SettingWithCopyWarning: \n",
      "A value is trying to be set on a copy of a slice from a DataFrame.\n",
      "Try using .loc[row_indexer,col_indexer] = value instead\n",
      "\n",
      "See the caveats in the documentation: https://pandas.pydata.org/pandas-docs/stable/user_guide/indexing.html#returning-a-view-versus-a-copy\n",
      "  skinny['priority'] = skinny['priority'].astype(str)\n"
     ]
    }
   ],
   "source": [
    "import altair as alt\n",
    "\n",
    "skinny = tasks[['priority','due_date']]\n",
    "skinny['priority'] = skinny['priority'].astype(str)\n",
    "skinny2 = skinny.query('due_date == due_date')\n",
    "\n",
    "base = alt.Chart(skinny2).transform_aggregate(\n",
    "    num_tasks='count()',\n",
    "    groupby=['priority','due_date']\n",
    ").encode(\n",
    "    alt.X('due_date', scale=alt.Scale(paddingInner=0)),\n",
    "    alt.Y('priority', scale=alt.Scale(paddingInner=0)),\n",
    ")\n",
    "\n",
    "heatmap = base.mark_rect().encode(\n",
    "    color=alt.Color('num_tasks:Q',\n",
    "        scale=alt.Scale(scheme='viridis'),\n",
    "        legend=alt.Legend(direction='horizontal')\n",
    "    )\n",
    ")\n",
    "\n",
    "text = base.mark_text(baseline='middle').encode(\n",
    "    text='num_tasks:Q',\n",
    "    color=alt.condition(\n",
    "        alt.datum.num_tasks > 4,\n",
    "        alt.value('black'),\n",
    "        alt.value('white')\n",
    "    )\n",
    ")"
   ]
  },
  {
   "cell_type": "code",
   "execution_count": 22,
   "metadata": {},
   "outputs": [
    {
     "name": "stderr",
     "output_type": "stream",
     "text": [
      "/Users/ross/opt/miniconda3/envs/steamlit-bare/lib/python3.10/site-packages/altair/utils/core.py:283: FutureWarning: iteritems is deprecated and will be removed in a future version. Use .items instead.\n",
      "  for col_name, dtype in df.dtypes.iteritems():\n"
     ]
    },
    {
     "data": {
      "text/html": [
       "\n",
       "<div id=\"altair-viz-0af0514d15ba4ff6a53d41a64b8ecf2b\"></div>\n",
       "<script type=\"text/javascript\">\n",
       "  (function(spec, embedOpt){\n",
       "    let outputDiv = document.currentScript.previousElementSibling;\n",
       "    if (outputDiv.id !== \"altair-viz-0af0514d15ba4ff6a53d41a64b8ecf2b\") {\n",
       "      outputDiv = document.getElementById(\"altair-viz-0af0514d15ba4ff6a53d41a64b8ecf2b\");\n",
       "    }\n",
       "    const paths = {\n",
       "      \"vega\": \"https://cdn.jsdelivr.net/npm//vega@5?noext\",\n",
       "      \"vega-lib\": \"https://cdn.jsdelivr.net/npm//vega-lib?noext\",\n",
       "      \"vega-lite\": \"https://cdn.jsdelivr.net/npm//vega-lite@4.8.1?noext\",\n",
       "      \"vega-embed\": \"https://cdn.jsdelivr.net/npm//vega-embed@6?noext\",\n",
       "    };\n",
       "\n",
       "    function loadScript(lib) {\n",
       "      return new Promise(function(resolve, reject) {\n",
       "        var s = document.createElement('script');\n",
       "        s.src = paths[lib];\n",
       "        s.async = true;\n",
       "        s.onload = () => resolve(paths[lib]);\n",
       "        s.onerror = () => reject(`Error loading script: ${paths[lib]}`);\n",
       "        document.getElementsByTagName(\"head\")[0].appendChild(s);\n",
       "      });\n",
       "    }\n",
       "\n",
       "    function showError(err) {\n",
       "      outputDiv.innerHTML = `<div class=\"error\" style=\"color:red;\">${err}</div>`;\n",
       "      throw err;\n",
       "    }\n",
       "\n",
       "    function displayChart(vegaEmbed) {\n",
       "      vegaEmbed(outputDiv, spec, embedOpt)\n",
       "        .catch(err => showError(`Javascript Error: ${err.message}<br>This usually means there's a typo in your chart specification. See the javascript console for the full traceback.`));\n",
       "    }\n",
       "\n",
       "    if(typeof define === \"function\" && define.amd) {\n",
       "      requirejs.config({paths});\n",
       "      require([\"vega-embed\"], displayChart, err => showError(`Error loading script: ${err.message}`));\n",
       "    } else if (typeof vegaEmbed === \"function\") {\n",
       "      displayChart(vegaEmbed);\n",
       "    } else {\n",
       "      loadScript(\"vega\")\n",
       "        .then(() => loadScript(\"vega-lite\"))\n",
       "        .then(() => loadScript(\"vega-embed\"))\n",
       "        .catch(showError)\n",
       "        .then(() => displayChart(vegaEmbed));\n",
       "    }\n",
       "  })({\"config\": {\"view\": {\"continuousWidth\": 400, \"continuousHeight\": 300}}, \"layer\": [{\"mark\": \"rect\", \"encoding\": {\"color\": {\"type\": \"quantitative\", \"field\": \"num_tasks\", \"legend\": {\"direction\": \"horizontal\"}, \"scale\": {\"scheme\": \"viridis\"}}, \"x\": {\"type\": \"nominal\", \"field\": \"due_date\", \"scale\": {\"paddingInner\": 0}}, \"y\": {\"type\": \"nominal\", \"field\": \"priority\", \"scale\": {\"paddingInner\": 0}}}, \"transform\": [{\"aggregate\": [{\"op\": \"count\", \"as\": \"num_tasks\"}], \"groupby\": [\"priority\", \"due_date\"]}]}, {\"mark\": {\"type\": \"text\", \"baseline\": \"middle\"}, \"encoding\": {\"color\": {\"condition\": {\"value\": \"black\", \"test\": \"(datum.num_tasks > 4)\"}, \"value\": \"white\"}, \"text\": {\"type\": \"quantitative\", \"field\": \"num_tasks\"}, \"x\": {\"type\": \"nominal\", \"field\": \"due_date\", \"scale\": {\"paddingInner\": 0}}, \"y\": {\"type\": \"nominal\", \"field\": \"priority\", \"scale\": {\"paddingInner\": 0}}}, \"transform\": [{\"aggregate\": [{\"op\": \"count\", \"as\": \"num_tasks\"}], \"groupby\": [\"priority\", \"due_date\"]}]}], \"data\": {\"name\": \"data-6c114d32c053ead0f8686a748795974a\"}, \"$schema\": \"https://vega.github.io/schema/vega-lite/v4.8.1.json\", \"datasets\": {\"data-6c114d32c053ead0f8686a748795974a\": [{\"priority\": \"1\", \"due_date\": \"2022-12-21\"}, {\"priority\": \"1\", \"due_date\": \"2022-12-21\"}, {\"priority\": \"1\", \"due_date\": \"2022-12-21\"}, {\"priority\": \"1\", \"due_date\": \"2022-12-23\"}, {\"priority\": \"1\", \"due_date\": \"2022-12-24\"}, {\"priority\": \"1\", \"due_date\": \"2025-08-01\"}, {\"priority\": \"1\", \"due_date\": \"2023-09-15\"}, {\"priority\": \"1\", \"due_date\": \"2022-12-24\"}, {\"priority\": \"1\", \"due_date\": \"2022-12-21\"}, {\"priority\": \"2\", \"due_date\": \"2022-12-18\"}, {\"priority\": \"3\", \"due_date\": \"2022-12-24\"}, {\"priority\": \"1\", \"due_date\": \"2023-09-11\"}, {\"priority\": \"2\", \"due_date\": \"2022-12-19\"}, {\"priority\": \"3\", \"due_date\": \"2022-12-19\"}, {\"priority\": \"2\", \"due_date\": \"2023-01-15\"}, {\"priority\": \"2\", \"due_date\": \"2023-01-09\"}, {\"priority\": \"3\", \"due_date\": \"2022-12-21\"}, {\"priority\": \"2\", \"due_date\": \"2022-12-21\"}, {\"priority\": \"2\", \"due_date\": \"2022-12-22\"}, {\"priority\": \"2\", \"due_date\": \"2022-12-19\"}, {\"priority\": \"1\", \"due_date\": \"2022-12-22\"}, {\"priority\": \"1\", \"due_date\": \"2022-12-19\"}, {\"priority\": \"1\", \"due_date\": \"2023-02-24\"}, {\"priority\": \"1\", \"due_date\": \"2022-12-24\"}, {\"priority\": \"2\", \"due_date\": \"2022-12-19\"}, {\"priority\": \"3\", \"due_date\": \"2022-12-24\"}, {\"priority\": \"1\", \"due_date\": \"2023-01-01\"}, {\"priority\": \"1\", \"due_date\": \"2022-12-23\"}, {\"priority\": \"1\", \"due_date\": \"2022-12-25\"}, {\"priority\": \"1\", \"due_date\": \"2022-12-20\"}, {\"priority\": \"2\", \"due_date\": \"2022-12-21\"}, {\"priority\": \"3\", \"due_date\": \"2022-12-19\"}, {\"priority\": \"1\", \"due_date\": \"2022-12-20\"}, {\"priority\": \"1\", \"due_date\": \"2022-12-21\"}, {\"priority\": \"1\", \"due_date\": \"2022-12-18\"}, {\"priority\": \"4\", \"due_date\": \"2022-12-19\"}, {\"priority\": \"1\", \"due_date\": \"2022-12-19\"}, {\"priority\": \"2\", \"due_date\": \"2022-12-18\"}, {\"priority\": \"2\", \"due_date\": \"2022-12-19\"}, {\"priority\": \"3\", \"due_date\": \"2022-12-19\"}, {\"priority\": \"3\", \"due_date\": \"2022-12-19\"}, {\"priority\": \"2\", \"due_date\": \"2022-12-19\"}, {\"priority\": \"2\", \"due_date\": \"2022-12-20\"}, {\"priority\": \"4\", \"due_date\": \"2022-12-20\"}, {\"priority\": \"4\", \"due_date\": \"2022-12-19\"}, {\"priority\": \"3\", \"due_date\": \"2022-12-19\"}, {\"priority\": \"1\", \"due_date\": \"2022-12-24\"}, {\"priority\": \"1\", \"due_date\": \"2022-12-24\"}, {\"priority\": \"4\", \"due_date\": \"2022-12-18\"}, {\"priority\": \"4\", \"due_date\": \"2022-12-19\"}, {\"priority\": \"1\", \"due_date\": \"2022-12-18\"}, {\"priority\": \"4\", \"due_date\": \"2022-12-18\"}, {\"priority\": \"1\", \"due_date\": \"2023-01-11\"}]}}, {\"mode\": \"vega-lite\"});\n",
       "</script>"
      ],
      "text/plain": [
       "alt.LayerChart(...)"
      ]
     },
     "execution_count": 22,
     "metadata": {},
     "output_type": "execute_result"
    }
   ],
   "source": [
    "heatmap + text"
   ]
  },
  {
   "cell_type": "code",
   "execution_count": null,
   "metadata": {},
   "outputs": [],
   "source": []
  }
 ],
 "metadata": {
  "kernelspec": {
   "display_name": "steamlit-bare",
   "language": "python",
   "name": "python3"
  },
  "language_info": {
   "codemirror_mode": {
    "name": "ipython",
    "version": 3
   },
   "file_extension": ".py",
   "mimetype": "text/x-python",
   "name": "python",
   "nbconvert_exporter": "python",
   "pygments_lexer": "ipython3",
   "version": "3.10.8"
  },
  "orig_nbformat": 4,
  "vscode": {
   "interpreter": {
    "hash": "8a116c24c121e2e3838d14bf0b240a9aeb87ab94ccb874e74329eceaee19fcd4"
   }
  }
 },
 "nbformat": 4,
 "nbformat_minor": 2
}
